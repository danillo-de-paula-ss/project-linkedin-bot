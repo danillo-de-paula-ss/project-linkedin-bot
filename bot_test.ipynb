{
 "cells": [
  {
   "attachments": {},
   "cell_type": "markdown",
   "metadata": {},
   "source": [
    "# Start Driver"
   ]
  },
  {
   "cell_type": "code",
   "execution_count": 2,
   "metadata": {},
   "outputs": [
    {
     "name": "stderr",
     "output_type": "stream",
     "text": [
      "[WDM] - Downloading: 100%|██████████| 6.30M/6.30M [00:10<00:00, 605kB/s]\n"
     ]
    }
   ],
   "source": [
    "from utilities.driver_settings import start_driver\n",
    "from selenium.webdriver.common.by import By\n",
    "from selenium.webdriver.common.keys import Keys\n",
    "from selenium.webdriver.common.action_chains import ActionChains\n",
    "from selenium.webdriver.remote.webelement import WebElement\n",
    "from selenium.webdriver.chrome.webdriver import WebDriver\n",
    "from selenium.webdriver.support.ui import WebDriverWait\n",
    "from selenium.common.exceptions import NoSuchElementException, ElementClickInterceptedException, TimeoutException, WebDriverException\n",
    "from selenium.webdriver.support import expected_conditions\n",
    "\n",
    "driver, wait = start_driver()\n",
    "driver.get('https://www.linkedin.com/')"
   ]
  },
  {
   "attachments": {},
   "cell_type": "markdown",
   "metadata": {},
   "source": [
    "### Click in sign in"
   ]
  },
  {
   "cell_type": "code",
   "execution_count": 4,
   "metadata": {},
   "outputs": [
    {
     "name": "stdout",
     "output_type": "stream",
     "text": [
      "Já está na página de login\n"
     ]
    }
   ],
   "source": [
    "try:\n",
    "    button_login = driver.find_element(By.XPATH, '//button[@class=\"authwall-join-form__form-toggle--bottom form-toggle\"]')\n",
    "    button_login.click()\n",
    "except NoSuchElementException:\n",
    "    print('Já está na página de login.')"
   ]
  },
  {
   "attachments": {},
   "cell_type": "markdown",
   "metadata": {},
   "source": [
    "### Login in the Linkedin"
   ]
  },
  {
   "cell_type": "code",
   "execution_count": 6,
   "metadata": {},
   "outputs": [],
   "source": [
    "from time import sleep\n",
    "import pickle\n",
    "from cryptography.fernet import Fernet\n",
    "import sys\n",
    "import os\n",
    "\n",
    "# Find path\n",
    "def find_data_file(filename):\n",
    "    if getattr(sys, \"frozen\", False):\n",
    "        # The application is frozen\n",
    "        datadir = os.path.dirname(sys.executable)\n",
    "    else:\n",
    "        # The application is not frozen\n",
    "        # Change this bit to match where you store your data files:\n",
    "        datadir = os.path.abspath('')\n",
    "    return os.path.join(datadir, filename)\n",
    "\n",
    "key = b'C5S5cpuAyO_XDOHX2Rr5MnHu64Ne6Bzg_pKsk1l9zag='\n",
    "data_path = find_data_file('data.pkl')\n",
    "with open(data_path, 'rb') as file:\n",
    "    data: dict = pickle.load(file)\n",
    "    username, password_encrypted = data.values()\n",
    "    password = Fernet(key).decrypt(password_encrypted).decode()\n",
    "\n",
    "username_field: WebElement = wait.until(expected_conditions.element_to_be_clickable((By.XPATH, '//input[@autocomplete=\"username\"]')))\n",
    "username_field.send_keys(username)\n",
    "sleep(1)\n",
    "password_field: WebElement = wait.until(expected_conditions.element_to_be_clickable((By.XPATH, '//input[@autocomplete=\"current-password\"]')))\n",
    "password_field.send_keys(password)\n",
    "sleep(1)\n",
    "driver.find_element(By.XPATH, '//button[contains(text(),\"Entrar\")]').click()"
   ]
  },
  {
   "attachments": {},
   "cell_type": "markdown",
   "metadata": {},
   "source": [
    "### Main program test"
   ]
  },
  {
   "cell_type": "code",
   "execution_count": 14,
   "metadata": {},
   "outputs": [],
   "source": [
    "posts: list[WebElement] = wait.until(expected_conditions.presence_of_all_elements_located((By.XPATH, '//div[@class=\"scaffold-finite-scroll__content\"]/div')))\n",
    "action_chains = ActionChains(driver)"
   ]
  },
  {
   "cell_type": "code",
   "execution_count": 15,
   "metadata": {},
   "outputs": [
    {
     "data": {
      "text/plain": [
       "<selenium.webdriver.common.action_chains.ActionChains at 0x13ad9fbe080>"
      ]
     },
     "execution_count": 15,
     "metadata": {},
     "output_type": "execute_result"
    }
   ],
   "source": [
    "post_selected = 4\n",
    "post = posts[post_selected]\n",
    "action_chains.move_to_element_with_offset(post, 0, 100)"
   ]
  },
  {
   "cell_type": "code",
   "execution_count": 18,
   "metadata": {},
   "outputs": [
    {
     "name": "stdout",
     "output_type": "stream",
     "text": [
      "28\n"
     ]
    }
   ],
   "source": [
    "key_message = 'Eu quero'\n",
    "comment_index = 6\n",
    "comments = post.find_elements(By.XPATH, f'./div/div[4]/div/div/div[{comment_index}]/div[3]/div[3]/div/article/div[3]/div/div/span/div/span')\n",
    "comments_text: list[str] = list(map(lambda w: w.text.strip(), comments))\n",
    "length = len(list(filter(lambda text: key_message.lower() in text.lower(), comments_text)))\n",
    "print(length)"
   ]
  },
  {
   "cell_type": "code",
   "execution_count": 80,
   "metadata": {},
   "outputs": [
    {
     "name": "stdout",
     "output_type": "stream",
     "text": [
      "True\n",
      "True\n"
     ]
    }
   ],
   "source": [
    "text_to_write = '''👉 Para saber todas as informações sobre a vaga de emprego, acesse nosso blog aqui: www.vagaseolica.com\n",
    "\n",
    "✅ Participe do nosso grupo de whatsapp e não perca mais nenhuma vaga quando for postada: 👉www.vagaseolica.com/p/whatsapp.html \n",
    "\n",
    "☑ Transforme sua vida com as vagas de emprego mais promissoras no setor de energia eólica. Saiba mais: https://www.vagaseolica.com/2023/06/seu-primeiro-emprego-na-industria.html'''\n",
    "k = 1\n",
    "replies = post.find_elements(By.XPATH, f'./div/div[4]/div/div/div[{comment_index}]/div[3]/div[3]/div/article[{k}]/div[4]/div[4]/div[1]/article/div[3]/div/div/span/div/span')\n",
    "replies_text = [reply.get_attribute('innerText').replace('\\xa0', ' ') for reply in replies]\n",
    "reply_found = any(map(lambda reply: reply == text_to_write, replies_text))\n",
    "print(reply_found)\n",
    "text = replies[0].get_attribute('innerText').replace('\\xa0', ' ')\n",
    "print(text == text_to_write)\n",
    "# print([text])"
   ]
  },
  {
   "cell_type": "code",
   "execution_count": 77,
   "metadata": {},
   "outputs": [
    {
     "name": "stdout",
     "output_type": "stream",
     "text": [
      "True\n",
      "['👉 Para saber todas as informações sobre a vaga de emprego, acesse nosso blog aqui: www.vagaseolica.com\\n\\n✅ Participe do nosso grupo de whatsapp e não perca mais nenhuma vaga quando for postada: 👉www.vagaseolica.com/p/whatsapp.html \\n\\n☑ Transforme sua vida com as vagas de emprego mais promissoras no setor de energia eólica. Saiba mais: https://www.vagaseolica.com/2023/06/seu-primeiro-emprego-na-industria.html']\n"
     ]
    }
   ],
   "source": [
    "t1 = '''👉 Para saber todas as informações sobre a vaga de emprego, acesse nosso blog aqui: www.vagaseolica.com\n",
    "\n",
    "✅ Participe do nosso grupo de whatsapp e não perca mais nenhuma vaga quando for postada: 👉www.vagaseolica.com/p/whatsapp.html \n",
    "\n",
    "☑ Transforme sua vida com as vagas de emprego mais promissoras no setor de energia eólica. Saiba mais: https://www.vagaseolica.com/2023/06/seu-primeiro-emprego-na-industria.html'''\n",
    "\n",
    "t2 = '''👉 Para saber todas as informações sobre a vaga de emprego, acesse nosso blog aqui: www.vagaseolica.com\n",
    "\n",
    "✅ Participe do nosso grupo de whatsapp e não perca mais nenhuma vaga quando for postada: 👉www.vagaseolica.com/p/whatsapp.html \n",
    "\n",
    "☑ Transforme sua vida com as vagas de emprego mais promissoras no setor de energia eólica. Saiba mais: https://www.vagaseolica.com/2023/06/seu-primeiro-emprego-na-industria.html'''\n",
    "\n",
    "print(text[:105] in t2)\n",
    "print([t2])"
   ]
  },
  {
   "cell_type": "code",
   "execution_count": null,
   "metadata": {},
   "outputs": [],
   "source": [
    "driver.quit()"
   ]
  }
 ],
 "metadata": {
  "kernelspec": {
   "display_name": "venv",
   "language": "python",
   "name": "python3"
  },
  "language_info": {
   "codemirror_mode": {
    "name": "ipython",
    "version": 3
   },
   "file_extension": ".py",
   "mimetype": "text/x-python",
   "name": "python",
   "nbconvert_exporter": "python",
   "pygments_lexer": "ipython3",
   "version": "3.10.9"
  },
  "orig_nbformat": 4
 },
 "nbformat": 4,
 "nbformat_minor": 2
}
