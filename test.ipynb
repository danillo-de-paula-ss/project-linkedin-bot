{
 "cells": [
  {
   "attachments": {},
   "cell_type": "markdown",
   "metadata": {},
   "source": [
    "# Start Driver"
   ]
  },
  {
   "cell_type": "code",
   "execution_count": 1,
   "metadata": {},
   "outputs": [],
   "source": [
    "from utilities.driver_settings import start_driver\n",
    "from selenium.webdriver.common.by import By\n",
    "from selenium.webdriver.common.keys import Keys\n",
    "from selenium.webdriver.common.action_chains import ActionChains\n",
    "from selenium.webdriver.remote.webelement import WebElement\n",
    "from selenium.webdriver.chrome.webdriver import WebDriver\n",
    "from selenium.webdriver.support.ui import WebDriverWait\n",
    "from selenium.common.exceptions import NoSuchElementException, ElementClickInterceptedException, TimeoutException, WebDriverException\n",
    "from selenium.webdriver.support import expected_conditions\n",
    "\n",
    "driver, wait = start_driver()\n",
    "driver.get('https://www.linkedin.com/')"
   ]
  },
  {
   "attachments": {},
   "cell_type": "markdown",
   "metadata": {},
   "source": [
    "### Click on sign in"
   ]
  },
  {
   "cell_type": "code",
   "execution_count": 2,
   "metadata": {},
   "outputs": [
    {
     "name": "stdout",
     "output_type": "stream",
     "text": [
      "Entrando na página de login.\n",
      "Pronto! Já está na página de login.\n"
     ]
    }
   ],
   "source": [
    "try:\n",
    "    # button_login = driver.find_element(By.XPATH, '//button[@class=\"authwall-join-form__form-toggle--bottom form-toggle\"]')\n",
    "    button_login = driver.find_element(By.XPATH, '//a[contains(text(),\"Entrar\")]')\n",
    "    print('Entrando na página de login.')\n",
    "    button_login.click()\n",
    "    print('Pronto! Já está na página de login.')\n",
    "except NoSuchElementException:\n",
    "    print('Já está na página de login.')"
   ]
  },
  {
   "attachments": {},
   "cell_type": "markdown",
   "metadata": {},
   "source": [
    "### Login to the Linkedin"
   ]
  },
  {
   "cell_type": "code",
   "execution_count": 3,
   "metadata": {},
   "outputs": [],
   "source": [
    "from time import sleep\n",
    "import pickle\n",
    "from cryptography.fernet import Fernet\n",
    "import sys\n",
    "import os\n",
    "\n",
    "# Find path\n",
    "def find_data_file(filename):\n",
    "    if getattr(sys, \"frozen\", False):\n",
    "        # The application is frozen\n",
    "        datadir = os.path.dirname(sys.executable)\n",
    "    else:\n",
    "        # The application is not frozen\n",
    "        # Change this bit to match where you store your data files:\n",
    "        datadir = os.path.abspath('')\n",
    "    return os.path.join(datadir, filename)\n",
    "\n",
    "key = b'C5S5cpuAyO_XDOHX2Rr5MnHu64Ne6Bzg_pKsk1l9zag='\n",
    "data_path = find_data_file('data.pkl')\n",
    "with open(data_path, 'rb') as file:\n",
    "    data: dict[str, str | bytes] = pickle.load(file)\n",
    "    username = data['username']\n",
    "    password_encrypted = data['password']\n",
    "    password = Fernet(key).decrypt(password_encrypted).decode()\n",
    "\n",
    "# username_field: WebElement = wait.until(expected_conditions.element_to_be_clickable((By.XPATH, '//input[@autocomplete=\"username\"]')))\n",
    "username_field: WebElement = wait.until(expected_conditions.element_to_be_clickable((By.XPATH, '//input[@autocomplete=\"webauthn\"]')))\n",
    "username_field.send_keys(username)\n",
    "sleep(1)\n",
    "password_field: WebElement = wait.until(expected_conditions.element_to_be_clickable((By.XPATH, '//input[@autocomplete=\"current-password\"]')))\n",
    "password_field.send_keys(password)\n",
    "sleep(1)\n",
    "driver.find_element(By.XPATH, '//button[contains(text(),\"Entrar\")]').click()"
   ]
  },
  {
   "attachments": {},
   "cell_type": "markdown",
   "metadata": {},
   "source": [
    "### Main program test"
   ]
  },
  {
   "cell_type": "code",
   "execution_count": null,
   "metadata": {},
   "outputs": [],
   "source": [
    "posts: list[WebElement] = wait.until(expected_conditions.presence_of_all_elements_located((By.XPATH, '//div[@class=\"scaffold-finite-scroll__content\"]/div')))\n",
    "action_chains = ActionChains(driver)"
   ]
  },
  {
   "cell_type": "code",
   "execution_count": null,
   "metadata": {},
   "outputs": [
    {
     "data": {
      "text/plain": [
       "<selenium.webdriver.common.action_chains.ActionChains at 0x13ad9fbe080>"
      ]
     },
     "execution_count": 15,
     "metadata": {},
     "output_type": "execute_result"
    }
   ],
   "source": [
    "post_selected = 4\n",
    "post = posts[post_selected]\n",
    "action_chains.move_to_element_with_offset(post, 0, 100)"
   ]
  },
  {
   "cell_type": "code",
   "execution_count": null,
   "metadata": {},
   "outputs": [
    {
     "name": "stdout",
     "output_type": "stream",
     "text": [
      "28\n"
     ]
    }
   ],
   "source": [
    "key_message = 'Eu quero'\n",
    "comment_index = 6\n",
    "comments = post.find_elements(By.XPATH, f'./div/div[4]/div/div/div[{comment_index}]/div[3]/div[3]/div/article/div[3]/div/div/span/div/span')\n",
    "comments_text: list[str] = list(map(lambda w: w.text.strip(), comments))\n",
    "length = len(list(filter(lambda text: key_message.lower() in text.lower(), comments_text)))\n",
    "print(length)"
   ]
  },
  {
   "cell_type": "code",
   "execution_count": null,
   "metadata": {},
   "outputs": [
    {
     "name": "stdout",
     "output_type": "stream",
     "text": [
      "True\n",
      "True\n"
     ]
    }
   ],
   "source": [
    "text_to_write = '''👉 Para saber todas as informações sobre a vaga de emprego, acesse nosso blog aqui: www.vagaseolica.com\n",
    "\n",
    "✅ Participe do nosso grupo de whatsapp e não perca mais nenhuma vaga quando for postada: 👉www.vagaseolica.com/p/whatsapp.html \n",
    "\n",
    "☑ Transforme sua vida com as vagas de emprego mais promissoras no setor de energia eólica. Saiba mais: https://www.vagaseolica.com/2023/06/seu-primeiro-emprego-na-industria.html'''\n",
    "k = 1\n",
    "replies = post.find_elements(By.XPATH, f'./div/div[4]/div/div/div[{comment_index}]/div[3]/div[3]/div/article[{k}]/div[4]/div[4]/div[1]/article/div[3]/div/div/span/div/span')\n",
    "replies_text = [reply.get_attribute('innerText').replace('\\xa0', ' ') for reply in replies]\n",
    "reply_found = any(map(lambda reply: reply == text_to_write, replies_text))\n",
    "print(reply_found)\n",
    "text = replies[0].get_attribute('innerText').replace('\\xa0', ' ')\n",
    "print(text == text_to_write)\n",
    "# print([text])"
   ]
  },
  {
   "attachments": {},
   "cell_type": "markdown",
   "metadata": {},
   "source": [
    "### New functionality"
   ]
  },
  {
   "cell_type": "code",
   "execution_count": 9,
   "metadata": {},
   "outputs": [],
   "source": [
    "# tab_buttons: list[WebElement] = wait.until(expected_conditions.presence_of_all_elements_located((By.XPATH, '//li[@class=\"org-page-navigation__item\"]')))\n",
    "# tab_buttons[-1].click()\n",
    "# //div[@class=\"scaffold-finite-scroll__content\"]\n",
    "activity_button: WebElement = wait.until(expected_conditions.element_to_be_clickable((By.XPATH, '//span[text()=\"Atividades\"]')))\n",
    "activity_button.click()"
   ]
  },
  {
   "cell_type": "code",
   "execution_count": 11,
   "metadata": {},
   "outputs": [],
   "source": [
    "# filter_button: WebElement = wait.until(expected_conditions.element_to_be_clickable((By.XPATH, '//button[@role=\"checkbox\" and contains(@aria-label, \"Coment\")]')))\n",
    "# if filter_button.get_attribute('aria-checked') == 'false':\n",
    "#     filter_button.click()\n",
    "# else:\n",
    "#     print('oi')\n",
    "# # print(filter_button.get_attribute('aria-checked'))\n",
    "\n",
    "# bug fixed\n",
    "filter_button: WebElement = wait.until(expected_conditions.element_to_be_clickable((By.XPATH, '//li[@class=\"org-menu__item\" and @data-test-org-menu__item=\"horizontal\"][2]/a')))\n",
    "filter_button.click()"
   ]
  },
  {
   "cell_type": "code",
   "execution_count": 21,
   "metadata": {},
   "outputs": [],
   "source": [
    "comments = driver.find_elements(By.XPATH, '//div[@class=\"scaffold-finite-scroll__content\"]/div/div/article/div/div[2]')\n",
    "comment_text = comments[0].find_element(By.XPATH, './button/div/span').text\n",
    "initial_tab = driver.current_window_handle\n",
    "# print(comments[0].text)\n",
    "if 'link'.lower() in comment_text.lower():\n",
    "    comments[0].find_element(By.XPATH, './div/div/button').click()\n",
    "    tabs = driver.window_handles\n",
    "    for tab in tabs:\n",
    "        if tab not in initial_tab:\n",
    "            driver.switch_to.window(tab)"
   ]
  },
  {
   "cell_type": "code",
   "execution_count": 22,
   "metadata": {},
   "outputs": [],
   "source": [
    "import pyperclip as pc\n",
    "\n",
    "# text_to_write = '''👉 Para saber todas as informações sobre a vaga de emprego, acesse nosso blog aqui: www.vagaseolica.com\n",
    "\n",
    "# ✅ Participe do nosso grupo de whatsapp e não perca mais nenhuma vaga quando for postada: 👉www.vagaseolica.com/p/whatsapp.html \n",
    "\n",
    "# ☑ Transforme sua vida com as vagas de emprego mais promissoras no setor de energia eólica. Saiba mais: https://www.vagaseolica.com/2023/06/seu-primeiro-emprego-na-industria.html'''\n",
    "\n",
    "text_to_write = '''Aqui o link 😎: https://www.youtube.com/\n",
    "\n",
    "Tem outro aqui também ✅: https://www.google.com/'''\n",
    "\n",
    "pc.copy(text_to_write)\n",
    "sleep(1)\n",
    "driver.find_element(By.XPATH, '//div[contains(@data-placeholder, \"Responder em nome de\")]/p').send_keys(Keys().CONTROL, 'v')\n",
    "sleep(2)\n",
    "driver.find_element(By.XPATH, '//form[@class=\"comments-comment-box__form\"]/div/button[contains(@aria-label, \"Responder ao comentário de\")]').click()\n",
    "sleep(2)\n",
    "driver.close()\n",
    "driver.switch_to.window(initial_tab)"
   ]
  },
  {
   "cell_type": "markdown",
   "metadata": {},
   "source": [
    "### Change tab"
   ]
  },
  {
   "cell_type": "code",
   "execution_count": 24,
   "metadata": {},
   "outputs": [
    {
     "name": "stdout",
     "output_type": "stream",
     "text": [
      "B2A8207764F7CF841FFC3B535AEE48A5\n",
      "CB546BE60CFD5C9D38AF16E3472D7539\n"
     ]
    }
   ],
   "source": [
    "initial_tab = driver.current_window_handle\n",
    "tabs = driver.window_handles\n",
    "for tab in tabs:\n",
    "    if tab not in initial_tab:\n",
    "        driver.switch_to.window(tab)\n",
    "        print(tab)"
   ]
  },
  {
   "cell_type": "code",
   "execution_count": 23,
   "metadata": {},
   "outputs": [
    {
     "name": "stdout",
     "output_type": "stream",
     "text": [
      "41A4DE5F66354859B2A96D0392DB4FC1\n"
     ]
    }
   ],
   "source": [
    "driver.switch_to.window(initial_tab)\n",
    "print(initial_tab)"
   ]
  },
  {
   "cell_type": "code",
   "execution_count": 6,
   "metadata": {},
   "outputs": [],
   "source": [
    "text_to_write = '''👉 Para saber todas as informações sobre a vaga de emprego, acesse nosso blog aqui: www.vagaseolica.com\n",
    "\n",
    "✅ Participe do nosso grupo de whatsapp e não perca mais nenhuma vaga quando for postada: 👉www.vagaseolica.com/p/whatsapp.html\n",
    "\n",
    "☑ Transforme sua vida com as vagas de emprego mais promissoras no setor de energia eólica. Saiba mais: https://www.vagaseolica.com/2023/06/seu-primeiro-emprego-na-industria.html'''\n"
   ]
  },
  {
   "cell_type": "code",
   "execution_count": 25,
   "metadata": {},
   "outputs": [
    {
     "name": "stdout",
     "output_type": "stream",
     "text": [
      "3\n"
     ]
    }
   ],
   "source": [
    "text_to_write = '''Aqui o link 😎: https://www.youtube.com/\n",
    "\n",
    "Tem outro aqui também ✅: https://www.google.com/'''\n",
    "\n",
    "fields = driver.find_elements(By.XPATH, '//div[contains(@data-placeholder, \"Responder em nome de\")]/p')\n",
    "texts = text_to_write.splitlines()\n",
    "print(len(texts))\n",
    "# fields[0].send_keys('.')\n",
    "# fields[0].send_keys('\\n.' * (len(texts) - 1))\n",
    "for k in range(len(texts)):\n",
    "    fields = driver.find_elements(By.XPATH, '//div[contains(@data-placeholder, \"Responder em nome de\")]/p')\n",
    "    driver.execute_script(f\"arguments[0].innerHTML = '{texts[k]}'\", fields[k])\n",
    "    # sleep(0.5)\n",
    "    fields[k].send_keys(Keys.END + Keys.ARROW_DOWN * 10 + ('\\n.' if k + 1 < len(texts) else ''))\n",
    "# fields = driver.find_elements(By.XPATH, '//div[contains(@data-placeholder, \"Responder em nome de\")]/p')\n",
    "# fields[-1].send_keys(Keys.BACKSPACE * 2)\n",
    "# k = 0\n",
    "# driver.execute_script(f\"arguments[0].innerHTML = '{texts[k]}'\", fields[1])"
   ]
  },
  {
   "cell_type": "code",
   "execution_count": 28,
   "metadata": {},
   "outputs": [],
   "source": [
    "data_id = driver.current_url.split('%2C')[-1].split('%')[0]\n",
    "\n",
    "def check_text(text1:str, text2:str, percentage:int) -> bool:\n",
    "    count = 0\n",
    "    for char1, char2 in zip(text1, text2):\n",
    "        if char1 == char2:\n",
    "            count += 1\n",
    "    return count >= len(text1) * (percentage / 100)"
   ]
  },
  {
   "cell_type": "code",
   "execution_count": 26,
   "metadata": {},
   "outputs": [
    {
     "name": "stdout",
     "output_type": "stream",
     "text": [
      "//article[contains(@data-id, \"7203893106465771521\")]/div[6]/div[4]/div/article/div[3]/div/div/span/div/span/span\n"
     ]
    }
   ],
   "source": [
    "data_id = driver.current_url.split('%2C')[-1].split('%')[0]\n",
    "print(f'//article[contains(@data-id, \"{data_id}\")]/div[6]/div[4]/div/article/div[3]/div/div/span/div/span')"
   ]
  },
  {
   "cell_type": "code",
   "execution_count": 30,
   "metadata": {},
   "outputs": [
    {
     "name": "stdout",
     "output_type": "stream",
     "text": [
      "['Aqui o link 😎: https://www.youtube.com/\\n\\nTem outro aqui também ✅: https://www.google.com/']\n",
      "['Aqui o link 😎: https://www.youtube.com/\\n\\nTem outro aqui também ✅: https://www.google.com/']\n",
      "True\n"
     ]
    }
   ],
   "source": [
    "data_id = driver.current_url.split('%2C')[-1].split('%')[0]\n",
    "replies = driver.find_elements(By.XPATH, f'//article[contains(@data-id, \"{data_id}\")]/div[6]/div[4]/div/article/div[3]/div/div/span/div/span')\n",
    "replies_text = [reply.get_attribute('innerText') for reply in replies]\n",
    "print([text_to_write])\n",
    "print(replies_text)\n",
    "print(check_text(text_to_write, replies_text[0], 90))"
   ]
  },
  {
   "cell_type": "code",
   "execution_count": 8,
   "metadata": {},
   "outputs": [
    {
     "name": "stdout",
     "output_type": "stream",
     "text": [
      "['Testando Vagas']\n"
     ]
    }
   ],
   "source": [
    "# //div[@class=\"relative block\"]/div/div/a/span\n",
    "# print(driver.find_element(By.XPATH, '//div[@class=\"relative block\"]/div/a[2]/div').text)\n",
    "print([e.text for e in driver.find_elements(By.XPATH, '//div[@class=\"relative block\"]/div/a[2]/div')])"
   ]
  },
  {
   "cell_type": "code",
   "execution_count": 9,
   "metadata": {},
   "outputs": [],
   "source": [
    "driver.find_element(By.XPATH, '//div[@class=\"relative block\"]/div/a[2]/div').click()"
   ]
  },
  {
   "attachments": {},
   "cell_type": "markdown",
   "metadata": {},
   "source": [
    "### Quit driver"
   ]
  },
  {
   "cell_type": "code",
   "execution_count": 10,
   "metadata": {},
   "outputs": [],
   "source": [
    "driver.quit()"
   ]
  }
 ],
 "metadata": {
  "kernelspec": {
   "display_name": "venv",
   "language": "python",
   "name": "python3"
  },
  "language_info": {
   "codemirror_mode": {
    "name": "ipython",
    "version": 3
   },
   "file_extension": ".py",
   "mimetype": "text/x-python",
   "name": "python",
   "nbconvert_exporter": "python",
   "pygments_lexer": "ipython3",
   "version": "3.11.6"
  },
  "orig_nbformat": 4
 },
 "nbformat": 4,
 "nbformat_minor": 2
}
